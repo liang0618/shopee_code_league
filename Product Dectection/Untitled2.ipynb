{
 "cells": [
  {
   "cell_type": "code",
   "execution_count": 1,
   "metadata": {},
   "outputs": [],
   "source": [
    "import os\n",
    "import numpy as np\n",
    "import tensorflow as tf\n",
    "from tensorflow.keras.preprocessing import image\n",
    "from tensorflow.keras.applications.xception import Xception, preprocess_input\n",
    "from tensorflow.keras.preprocessing.image import ImageDataGenerator\n",
    "from tensorflow.keras.models import Model, load_model, save_model\n",
    "from tensorflow.keras.losses import categorical_crossentropy\n",
    "from tensorflow.keras.layers import Dense, GlobalAveragePooling2D, Dropout\n",
    "from tensorflow.keras.optimizers import Adam\n",
    "from tensorflow.keras.callbacks import ModelCheckpoint\n",
    "import matplotlib.pyplot as plt\n",
    "from PIL import Image\n",
    "from tensorflow.keras.preprocessing.image import load_img, img_to_array"
   ]
  },
  {
   "cell_type": "code",
   "execution_count": null,
   "metadata": {},
   "outputs": [],
   "source": [
    "#define path\n",
    "trained_model_dir = 'trained_model'\n",
    "results_dir = 'results'\n",
    "dir_name = 'Xception_binary_softmax_v4'\n",
    "\n",
    "model_checkpoint_dir = f'{trained_model_dir}/{dir_name}'\n",
    "if not os.path.exists(model_checkpoint_dir):\n",
    "    os.makedirs(model_checkpoint_dir)\n",
    "    \n",
    "model_init = os.path.join(model_checkpoint_dir, 'model_pre_final.h5')\n",
    "    \n",
    "chart_stats_dir = f'{results_dir}/{dir_name}'\n",
    "if not os.path.exists(chart_stats_dir):\n",
    "    os.makedirs(chart_stats_dir)\n",
    "\n",
    "train_dir =f'small_data/train/train/'\n",
    "test_dir = f'test/test/'\n",
    "\n",
    "\n",
    "train_black_dir = f'{train_dir}/black'\n",
    "train_nblack_dir = f'{train_dir}/no_black'\n",
    "test_black_dir = f'{test_dir}/black'\n",
    "test_nblack_dir = f'{test_dir}/no_black'"
   ]
  },
  {
   "cell_type": "code",
   "execution_count": null,
   "metadata": {},
   "outputs": [],
   "source": [
    "classes = ['00','01','02','03','04','05','06','07','08','09','10','11','12','13','14','15','16','17','18','19','20','21','22','23','24','25','26','27','28','29','30','31','32','33','34','35','36','37','38','39','40','41']"
   ]
  }
 ],
 "metadata": {
  "kernelspec": {
   "display_name": "Python 3",
   "language": "python",
   "name": "python3"
  },
  "language_info": {
   "codemirror_mode": {
    "name": "ipython",
    "version": 3
   },
   "file_extension": ".py",
   "mimetype": "text/x-python",
   "name": "python",
   "nbconvert_exporter": "python",
   "pygments_lexer": "ipython3",
   "version": "3.7.3"
  }
 },
 "nbformat": 4,
 "nbformat_minor": 2
}
