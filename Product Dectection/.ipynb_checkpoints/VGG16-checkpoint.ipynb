{
 "cells": [
  {
   "cell_type": "code",
   "execution_count": 9,
   "metadata": {},
   "outputs": [],
   "source": [
    "import os\n",
    "import numpy as np\n",
    "import tensorflow as tf\n",
    "from tensorflow.keras.preprocessing import image\n",
    "from tensorflow.keras.applications.vgg16 import VGG16, preprocess_input\n",
    "from tensorflow.keras.preprocessing.image import ImageDataGenerator\n",
    "from tensorflow.keras.models import Model, load_model, save_model\n",
    "from tensorflow.keras.losses import categorical_crossentropy\n",
    "from tensorflow.keras.layers import Dense, GlobalAveragePooling2D, Dropout\n",
    "from tensorflow.keras.optimizers import Adam\n",
    "from tensorflow.keras.callbacks import ModelCheckpoint\n",
    "import matplotlib.pyplot as plt\n",
    "from PIL import Image\n",
    "from tensorflow.keras.preprocessing.image import load_img, img_to_array\n",
    "#from keras.applications.vgg16 import VGG16\n",
    "#from keras.layers import Input, Add, Dense, Activation, ZeroPadding2D, BatchNormalization, Flatten, Conv2D, AveragePooling2D, MaxPooling2D, GlobalMaxPooling2D"
   ]
  },
  {
   "cell_type": "code",
   "execution_count": 2,
   "metadata": {},
   "outputs": [],
   "source": [
    "# Setting. Can change.\n",
    "CLASSES = ['00','01','02','03','04','05','06','07','08','09','10','11','12','13','14','15','16','17','18','19','20','21','22','23','24','25','26','27','28','29','30','31','32','33','34','35','36','37','38','39','40','41']\n",
    "\n",
    "batch_size_init = 32\n",
    "batch_size_finetuning = 16\n",
    "\n",
    "lr_init = 1e-4\n",
    "lr_finetuning = 1e-6\n",
    "\n",
    "epochs_init = 10\n",
    "epochs_finetuning = 30\n",
    "epochs_all = epochs_init + epochs_finetuning\n",
    "\n",
    "#input image width, height and shape\n",
    "IMG_HEIGHT = 224\n",
    "IMG_WIDTH = 224\n",
    "IMG_SHAPE = (IMG_WIDTH, IMG_HEIGHT, 3)\n",
    "\n",
    "\n",
    "#define path\n",
    "dataset_dir = 'data/dataset'\n",
    "trained_model_dir = 'trained_model'\n",
    "results_dir = 'results'\n",
    "\n",
    "dir_name = 'VGG'\n",
    "\n",
    "model_checkpoint_dir = f'{trained_model_dir}/{dir_name}'\n",
    "if not os.path.exists(model_checkpoint_dir):\n",
    "    os.makedirs(model_checkpoint_dir)\n",
    "    \n",
    "model_init = os.path.join(model_checkpoint_dir, 'model_pre_final.h5')\n",
    "    \n",
    "chart_stats_dir = f'{results_dir}/{dir_name}'\n",
    "if not os.path.exists(chart_stats_dir):\n",
    "    os.makedirs(chart_stats_dir)\n",
    "\n",
    "train_dir = f'{dataset_dir}/small_data/train/'\n",
    "test_dir = f'{dataset_dir}/test/'\n",
    "\n"
   ]
  },
  {
   "cell_type": "code",
   "execution_count": 10,
   "metadata": {},
   "outputs": [],
   "source": [
    "def get_generator(batch_size, is_augment=False):\n",
    "    if is_augment:\n",
    "        datagen = ImageDataGenerator(\n",
    "            preprocessing_function=preprocess_input,\n",
    "            brightness_range=(0.4,0.9),\n",
    "            horizontal_flip=True,\n",
    "            validation_split=0.2\n",
    "        )\n",
    "    else:\n",
    "        datagen = ImageDataGenerator(\n",
    "            preprocessing_function=preprocess_input,\n",
    "            validation_split=0.2\n",
    "        )\n",
    "\n",
    "    \n",
    "    train_generator = datagen.flow_from_directory(\n",
    "        train_dir, \n",
    "        subset='training',\n",
    "        target_size=(IMG_WIDTH, IMG_HEIGHT),\n",
    "        batch_size=batch_size,\n",
    "        classes=CLASSES,\n",
    "        class_mode=\"categorical\"\n",
    "    )\n",
    "\n",
    "    val_generator = datagen.flow_from_directory(\n",
    "        train_dir,\n",
    "        subset='validation',\n",
    "        target_size=(IMG_WIDTH, IMG_HEIGHT),\n",
    "        batch_size=batch_size,\n",
    "        classes=CLASSES,\n",
    "        class_mode=\"categorical\"\n",
    "    )\n",
    "    \n",
    "    return train_generator, val_generator"
   ]
  },
  {
   "cell_type": "code",
   "execution_count": 11,
   "metadata": {},
   "outputs": [],
   "source": [
    "def get_weight(model_path):\n",
    "    loaded_model = load_model(model_path)\n",
    "    return loaded_model.get_weights()\n",
    "\n",
    "\n",
    "def create_model(lr, weight=None):\n",
    "    base_model = VGG16(\n",
    "        include_top=False,\n",
    "        weights='imagenet',\n",
    "        input_shape=IMG_SHAPE)\n",
    "    \n",
    "    if not weight:\n",
    "        for layer in base_model.layers:\n",
    "            layer.trainable = False\n",
    "            \n",
    "    x = base_model.layers[-1].output\n",
    "    x = GlobalAveragePooling2D()(x)\n",
    "    x = Dropout(rate=0.3)(x)\n",
    "    predictions = Dense(len(CLASSES), activation='softmax')(x)\n",
    "    model = Model(inputs=base_model.inputs, outputs=predictions)\n",
    "    \n",
    "    if weight:\n",
    "        model.set_weights(weight)\n",
    "\n",
    "    # compile model\n",
    "    opt = Adam(lr=lr)\n",
    "    model.compile(\n",
    "        optimizer=opt,\n",
    "        loss=categorical_crossentropy,\n",
    "        metrics=['accuracy']\n",
    "    )\n",
    "    \n",
    "    return model"
   ]
  },
  {
   "cell_type": "code",
   "execution_count": 12,
   "metadata": {},
   "outputs": [
    {
     "name": "stdout",
     "output_type": "stream",
     "text": [
      "Found 3360 images belonging to 42 classes.\n",
      "Found 840 images belonging to 42 classes.\n"
     ]
    }
   ],
   "source": [
    "train_generator, validation_generator = get_generator(batch_size_init)"
   ]
  },
  {
   "cell_type": "code",
   "execution_count": 13,
   "metadata": {},
   "outputs": [
    {
     "name": "stdout",
     "output_type": "stream",
     "text": [
      "INFO:tensorflow:Reduce to /job:localhost/replica:0/task:0/device:CPU:0 then broadcast to ('/job:localhost/replica:0/task:0/device:CPU:0',).\n",
      "INFO:tensorflow:Reduce to /job:localhost/replica:0/task:0/device:CPU:0 then broadcast to ('/job:localhost/replica:0/task:0/device:CPU:0',).\n",
      "Model: \"model\"\n",
      "_________________________________________________________________\n",
      "Layer (type)                 Output Shape              Param #   \n",
      "=================================================================\n",
      "input_2 (InputLayer)         [(None, 224, 224, 3)]     0         \n",
      "_________________________________________________________________\n",
      "block1_conv1 (Conv2D)        (None, 224, 224, 64)      1792      \n",
      "_________________________________________________________________\n",
      "block1_conv2 (Conv2D)        (None, 224, 224, 64)      36928     \n",
      "_________________________________________________________________\n",
      "block1_pool (MaxPooling2D)   (None, 112, 112, 64)      0         \n",
      "_________________________________________________________________\n",
      "block2_conv1 (Conv2D)        (None, 112, 112, 128)     73856     \n",
      "_________________________________________________________________\n",
      "block2_conv2 (Conv2D)        (None, 112, 112, 128)     147584    \n",
      "_________________________________________________________________\n",
      "block2_pool (MaxPooling2D)   (None, 56, 56, 128)       0         \n",
      "_________________________________________________________________\n",
      "block3_conv1 (Conv2D)        (None, 56, 56, 256)       295168    \n",
      "_________________________________________________________________\n",
      "block3_conv2 (Conv2D)        (None, 56, 56, 256)       590080    \n",
      "_________________________________________________________________\n",
      "block3_conv3 (Conv2D)        (None, 56, 56, 256)       590080    \n",
      "_________________________________________________________________\n",
      "block3_pool (MaxPooling2D)   (None, 28, 28, 256)       0         \n",
      "_________________________________________________________________\n",
      "block4_conv1 (Conv2D)        (None, 28, 28, 512)       1180160   \n",
      "_________________________________________________________________\n",
      "block4_conv2 (Conv2D)        (None, 28, 28, 512)       2359808   \n",
      "_________________________________________________________________\n",
      "block4_conv3 (Conv2D)        (None, 28, 28, 512)       2359808   \n",
      "_________________________________________________________________\n",
      "block4_pool (MaxPooling2D)   (None, 14, 14, 512)       0         \n",
      "_________________________________________________________________\n",
      "block5_conv1 (Conv2D)        (None, 14, 14, 512)       2359808   \n",
      "_________________________________________________________________\n",
      "block5_conv2 (Conv2D)        (None, 14, 14, 512)       2359808   \n",
      "_________________________________________________________________\n",
      "block5_conv3 (Conv2D)        (None, 14, 14, 512)       2359808   \n",
      "_________________________________________________________________\n",
      "block5_pool (MaxPooling2D)   (None, 7, 7, 512)         0         \n",
      "_________________________________________________________________\n",
      "global_average_pooling2d_1 ( (None, 512)               0         \n",
      "_________________________________________________________________\n",
      "dropout (Dropout)            (None, 512)               0         \n",
      "_________________________________________________________________\n",
      "dense (Dense)                (None, 42)                21546     \n",
      "=================================================================\n",
      "Total params: 14,736,234\n",
      "Trainable params: 21,546\n",
      "Non-trainable params: 14,714,688\n",
      "_________________________________________________________________\n"
     ]
    }
   ],
   "source": [
    "mirrored_strategy = tf.distribute.MirroredStrategy()\n",
    "with mirrored_strategy.scope():\n",
    "    model = create_model(lr_init)\n",
    "model.summary()"
   ]
  },
  {
   "cell_type": "code",
   "execution_count": null,
   "metadata": {},
   "outputs": [
    {
     "name": "stdout",
     "output_type": "stream",
     "text": [
      "Train for 105 steps, validate for 27 steps\n",
      "Epoch 1/10\n",
      "INFO:tensorflow:Reduce to /job:localhost/replica:0/task:0/device:CPU:0 then broadcast to ('/job:localhost/replica:0/task:0/device:CPU:0',).\n",
      "INFO:tensorflow:Reduce to /job:localhost/replica:0/task:0/device:CPU:0 then broadcast to ('/job:localhost/replica:0/task:0/device:CPU:0',).\n",
      "INFO:tensorflow:Reduce to /job:localhost/replica:0/task:0/device:CPU:0 then broadcast to ('/job:localhost/replica:0/task:0/device:CPU:0',).\n",
      "INFO:tensorflow:Reduce to /job:localhost/replica:0/task:0/device:CPU:0 then broadcast to ('/job:localhost/replica:0/task:0/device:CPU:0',).\n",
      "104/105 [============================>.] - ETA: 0s - loss: 16.4292 - accuracy: 0.0240INFO:tensorflow:Reduce to /job:localhost/replica:0/task:0/device:CPU:0 then broadcast to ('/job:localhost/replica:0/task:0/device:CPU:0',).\n",
      "INFO:tensorflow:Reduce to /job:localhost/replica:0/task:0/device:CPU:0 then broadcast to ('/job:localhost/replica:0/task:0/device:CPU:0',).\n",
      "105/105 [==============================] - 122s 1s/step - loss: 16.4326 - accuracy: 0.0238 - val_loss: 11.8337 - val_accuracy: 0.0214\n",
      "Epoch 2/10\n",
      "105/105 [==============================] - 110s 1s/step - loss: 14.1685 - accuracy: 0.0411 - val_loss: 10.3792 - val_accuracy: 0.0357\n",
      "Epoch 3/10\n",
      "105/105 [==============================] - 110s 1s/step - loss: 12.9724 - accuracy: 0.0461 - val_loss: 9.4079 - val_accuracy: 0.0548\n",
      "Epoch 4/10\n",
      " 87/105 [=======================>......] - ETA: 17s - loss: 11.6565 - accuracy: 0.0636"
     ]
    }
   ],
   "source": [
    "hist_init = model.fit(\n",
    "    x=train_generator,\n",
    "    epochs=epochs_init,\n",
    "    validation_data=validation_generator\n",
    ")\n",
    "model.save(model_init)"
   ]
  },
  {
   "cell_type": "code",
   "execution_count": null,
   "metadata": {},
   "outputs": [],
   "source": [
    "weight = get_weight(model_init)\n",
    "\n",
    "model = create_model(lr_finetuning, weight)\n",
    "model.summary()"
   ]
  },
  {
   "cell_type": "code",
   "execution_count": null,
   "metadata": {},
   "outputs": [],
   "source": [
    "checkpoint = ModelCheckpoint(\n",
    "        filepath=model_checkpoint_dir+'/model_weights_{epoch}.h5',\n",
    "        monitor='val_loss',\n",
    "        save_best_only=True,\n",
    "        save_weights_only=False,\n",
    "        verbose=1,\n",
    "        save_freq='epoch'\n",
    ")\n",
    "\n",
    "train_generator, validation_generator = get_generator(batch_size_finetuning, True)\n",
    "\n",
    "hist_fine = model.fit(\n",
    "    x=train_generator,\n",
    "    epochs=epochs_finetuning,\n",
    "    validation_data=validation_generator,\n",
    "    callbacks=[checkpoint]\n",
    ")"
   ]
  },
  {
   "cell_type": "code",
   "execution_count": null,
   "metadata": {},
   "outputs": [],
   "source": [
    "def show_acc_loss_graph(hist_init, hist):\n",
    "    acc = hist_init.history['accuracy'] + hist.history['accuracy']\n",
    "    val_acc = hist_init.history['val_accuracy'] + hist.history['val_accuracy']\n",
    "    loss = hist_init.history['loss'] + hist.history['loss']\n",
    "    val_loss = hist_init.history['val_loss'] + hist.history['val_loss']\n",
    "    \n",
    "    # save accuracy graph image\n",
    "    plt.plot(range(1, epochs_all+1), acc, marker='.', label='accuracy')\n",
    "    plt.plot(range(1, epochs_all+1), val_acc, marker='.', label='val_accuracy')\n",
    "    plt.legend(loc='best')\n",
    "    plt.grid()\n",
    "    plt.xlabel('epoch')\n",
    "    plt.ylabel('accuracy')\n",
    "    plt.ylim(top=1.0) \n",
    "    plt.savefig(os.path.join(chart_stats_dir, 'accuracy.png'))\n",
    "    plt.show()\n",
    "\n",
    "    # save loss graph image\n",
    "    plt.plot(range(1, epochs_all+1), loss, marker='.', label='loss')\n",
    "    plt.plot(range(1, epochs_all+1), val_loss, marker='.', label='val_loss')\n",
    "    plt.legend(loc='best')\n",
    "    plt.grid()\n",
    "    plt.xlabel('epoch')\n",
    "    plt.ylabel('loss')\n",
    "    plt.ylim(bottom=0.0) \n",
    "    plt.savefig(os.path.join(chart_stats_dir, 'loss.png'))\n",
    "    plt.show()\n",
    "\n",
    "show_acc_loss_graph(hist_init, hist_fine)\n"
   ]
  },
  {
   "cell_type": "markdown",
   "metadata": {},
   "source": [
    "#### Run on Test Set to get submission csv file"
   ]
  },
  {
   "cell_type": "code",
   "execution_count": null,
   "metadata": {},
   "outputs": [],
   "source": [
    "#load the trained model back\n",
    "trained_model = create_model(lr, model_weight_path)"
   ]
  },
  {
   "cell_type": "code",
   "execution_count": null,
   "metadata": {},
   "outputs": [],
   "source": [
    "result_df = pd.DataFrame(columns=['filename', 'category'])\n",
    "result_df"
   ]
  },
  {
   "cell_type": "code",
   "execution_count": null,
   "metadata": {},
   "outputs": [],
   "source": [
    "#get the list of images for prediction\n",
    "img_files = [file for file in os.listdir(test_dir)]\n",
    "\n",
    "#preprocess the images and get predictions\n",
    "for img_file in img_files:\n",
    "    input_img = load_img(f'{test_dir}/{img_file}', target_size=(IMG_WIDTH, IMG_HEIGHT))\n",
    "    img = img_to_array(input_img)\n",
    "    img = img.reshape(1,IMG_WIDTH,IMG_HEIGHT,3)\n",
    "    img = preprocess_input(img)\n",
    "    prediction = trained_model.predict(img)\n",
    "    \n",
    "    predicted_class = CLASSES[prediction.argmax()]\n",
    "    \n",
    "    result_df = result_df.append({'filename':img_file, 'category': predicted_class}, ignore_index=True)"
   ]
  },
  {
   "cell_type": "code",
   "execution_count": null,
   "metadata": {},
   "outputs": [],
   "source": [
    "result_df"
   ]
  },
  {
   "cell_type": "code",
   "execution_count": null,
   "metadata": {},
   "outputs": [],
   "source": [
    "result_df.to_csv(chart_stats_dir+'/submission.csv', index=False)"
   ]
  },
  {
   "cell_type": "code",
   "execution_count": null,
   "metadata": {},
   "outputs": [],
   "source": []
  },
  {
   "cell_type": "code",
   "execution_count": null,
   "metadata": {},
   "outputs": [],
   "source": []
  },
  {
   "cell_type": "code",
   "execution_count": null,
   "metadata": {},
   "outputs": [],
   "source": []
  },
  {
   "cell_type": "code",
   "execution_count": null,
   "metadata": {},
   "outputs": [],
   "source": [
    "os.environ['CUDA_VISIBLE_DEVICES'] = '2'\n",
    "os.environ['TF_FORCE_GPU_ALLOW_GROWTH'] = 'true'\n",
    "\n",
    "strategy = tf.distribute.MirroredStrategy()\n",
    "with strategy.scope():\n",
    "    model = create_model(lr_init)\n",
    "model.summary()"
   ]
  },
  {
   "cell_type": "code",
   "execution_count": null,
   "metadata": {},
   "outputs": [],
   "source": [
    "hist_init = model.fit(\n",
    "    x=train_generator,\n",
    "    epochs=epochs_init,\n",
    "    validation_data=test_generator\n",
    ")\n",
    "model.save(model_init)"
   ]
  },
  {
   "cell_type": "code",
   "execution_count": null,
   "metadata": {},
   "outputs": [],
   "source": []
  },
  {
   "cell_type": "code",
   "execution_count": null,
   "metadata": {},
   "outputs": [],
   "source": [
    "from tensorflow.python.client import device_lib\n",
    "\n",
    "def get_available_gpus():\n",
    "    local_device_protos = device_lib.list_local_devices()\n",
    "    return [x.name for x in local_device_protos if x.device_type == 'GPU']"
   ]
  },
  {
   "cell_type": "code",
   "execution_count": null,
   "metadata": {},
   "outputs": [],
   "source": [
    "from tensorflow.python.client import device_lib\n",
    "\n",
    "device_lib.list_local_devices()"
   ]
  },
  {
   "cell_type": "code",
   "execution_count": null,
   "metadata": {},
   "outputs": [],
   "source": [
    "tf.test.is_gpu_available()\n"
   ]
  },
  {
   "cell_type": "code",
   "execution_count": null,
   "metadata": {},
   "outputs": [],
   "source": [
    "tf.test.gpu_device_name() "
   ]
  },
  {
   "cell_type": "code",
   "execution_count": null,
   "metadata": {},
   "outputs": [],
   "source": [
    "tf.__version__"
   ]
  },
  {
   "cell_type": "code",
   "execution_count": null,
   "metadata": {},
   "outputs": [],
   "source": [
    "conda install tensorflow-gpu=1.13"
   ]
  },
  {
   "cell_type": "code",
   "execution_count": null,
   "metadata": {},
   "outputs": [],
   "source": []
  },
  {
   "cell_type": "code",
   "execution_count": null,
   "metadata": {},
   "outputs": [],
   "source": [
    "VGG16_MODEL.trainable=False\n",
    "global_average_layer = tf.keras.layers.GlobalAveragePooling2D()\n",
    "prediction_layer = tf.keras.layers.Dense(len(CLASSES),activation='softmax')\n",
    "\n",
    "\n"
   ]
  },
  {
   "cell_type": "code",
   "execution_count": null,
   "metadata": {},
   "outputs": [],
   "source": [
    "model = tf.keras.Sequential([\n",
    "  VGG16_MODEL,\n",
    "  global_average_layer,\n",
    "  prediction_layer\n",
    "])"
   ]
  },
  {
   "cell_type": "code",
   "execution_count": null,
   "metadata": {},
   "outputs": [],
   "source": [
    "model.compile(optimizer=tf.optimizers.Adam(), \n",
    "              loss=tf.keras.losses.categorical_crossentropy,\n",
    "              metrics=[\"accuracy\"])"
   ]
  },
  {
   "cell_type": "code",
   "execution_count": null,
   "metadata": {},
   "outputs": [],
   "source": [
    "model.summary()\n"
   ]
  }
 ],
 "metadata": {
  "kernelspec": {
   "display_name": "Python 3",
   "language": "python",
   "name": "python3"
  },
  "language_info": {
   "codemirror_mode": {
    "name": "ipython",
    "version": 3
   },
   "file_extension": ".py",
   "mimetype": "text/x-python",
   "name": "python",
   "nbconvert_exporter": "python",
   "pygments_lexer": "ipython3",
   "version": "3.7.3"
  }
 },
 "nbformat": 4,
 "nbformat_minor": 2
}
